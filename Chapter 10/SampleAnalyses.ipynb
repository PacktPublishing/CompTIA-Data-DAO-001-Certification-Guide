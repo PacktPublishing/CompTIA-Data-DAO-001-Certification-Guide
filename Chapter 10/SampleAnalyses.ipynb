{
 "cells": [
  {
   "cell_type": "markdown",
   "id": "f9807684",
   "metadata": {},
   "source": [
    "# Sample Analyses for Chapter 10"
   ]
  },
  {
   "cell_type": "markdown",
   "id": "d5ab29b3",
   "metadata": {},
   "source": [
    "## Preperations"
   ]
  },
  {
   "cell_type": "code",
   "execution_count": 89,
   "id": "7e524122",
   "metadata": {},
   "outputs": [],
   "source": [
    "#Importing modules\n",
    "import pandas as pd\n",
    "import numpy as np\n",
    "import statsmodels.api as sm\n",
    "import matplotlib.pyplot as plt\n",
    "from scipy import stats\n",
    "from sklearn.model_selection import train_test_split"
   ]
  },
  {
   "cell_type": "code",
   "execution_count": 44,
   "id": "a3d6d574",
   "metadata": {},
   "outputs": [
    {
     "data": {
      "text/html": [
       "<div>\n",
       "<style scoped>\n",
       "    .dataframe tbody tr th:only-of-type {\n",
       "        vertical-align: middle;\n",
       "    }\n",
       "\n",
       "    .dataframe tbody tr th {\n",
       "        vertical-align: top;\n",
       "    }\n",
       "\n",
       "    .dataframe thead th {\n",
       "        text-align: right;\n",
       "    }\n",
       "</style>\n",
       "<table border=\"1\" class=\"dataframe\">\n",
       "  <thead>\n",
       "    <tr style=\"text-align: right;\">\n",
       "      <th></th>\n",
       "      <th>Type</th>\n",
       "      <th>Breed</th>\n",
       "      <th>Weight (lb)</th>\n",
       "      <th>Height (in)</th>\n",
       "      <th>Sex</th>\n",
       "    </tr>\n",
       "  </thead>\n",
       "  <tbody>\n",
       "    <tr>\n",
       "      <th>0</th>\n",
       "      <td>Cat</td>\n",
       "      <td>Maine Coon</td>\n",
       "      <td>15</td>\n",
       "      <td>11</td>\n",
       "      <td>Male</td>\n",
       "    </tr>\n",
       "    <tr>\n",
       "      <th>1</th>\n",
       "      <td>Dog</td>\n",
       "      <td>English Mastiff</td>\n",
       "      <td>223</td>\n",
       "      <td>32</td>\n",
       "      <td>Female</td>\n",
       "    </tr>\n",
       "    <tr>\n",
       "      <th>2</th>\n",
       "      <td>Cat</td>\n",
       "      <td>Singapura</td>\n",
       "      <td>6</td>\n",
       "      <td>8</td>\n",
       "      <td>Female</td>\n",
       "    </tr>\n",
       "    <tr>\n",
       "      <th>3</th>\n",
       "      <td>Cat</td>\n",
       "      <td>Singapura</td>\n",
       "      <td>4</td>\n",
       "      <td>7</td>\n",
       "      <td>Female</td>\n",
       "    </tr>\n",
       "    <tr>\n",
       "      <th>4</th>\n",
       "      <td>Cat</td>\n",
       "      <td>Singapura</td>\n",
       "      <td>8</td>\n",
       "      <td>8</td>\n",
       "      <td>Male</td>\n",
       "    </tr>\n",
       "  </tbody>\n",
       "</table>\n",
       "</div>"
      ],
      "text/plain": [
       "  Type            Breed  Weight (lb)  Height (in)     Sex\n",
       "0  Cat       Maine Coon           15           11    Male\n",
       "1  Dog  English Mastiff          223           32  Female\n",
       "2  Cat        Singapura            6            8  Female\n",
       "3  Cat        Singapura            4            7  Female\n",
       "4  Cat        Singapura            8            8    Male"
      ]
     },
     "execution_count": 44,
     "metadata": {},
     "output_type": "execute_result"
    }
   ],
   "source": [
    "#Importing dataset\n",
    "MyData = pd.read_csv(\"PetExample.csv\")\n",
    "MyData.head()"
   ]
  },
  {
   "cell_type": "markdown",
   "id": "16bb800e",
   "metadata": {},
   "source": [
    "## t-Test"
   ]
  },
  {
   "cell_type": "code",
   "execution_count": 48,
   "id": "561c9d45",
   "metadata": {},
   "outputs": [
    {
     "data": {
      "text/html": [
       "<div>\n",
       "<style scoped>\n",
       "    .dataframe tbody tr th:only-of-type {\n",
       "        vertical-align: middle;\n",
       "    }\n",
       "\n",
       "    .dataframe tbody tr th {\n",
       "        vertical-align: top;\n",
       "    }\n",
       "\n",
       "    .dataframe thead th {\n",
       "        text-align: right;\n",
       "    }\n",
       "</style>\n",
       "<table border=\"1\" class=\"dataframe\">\n",
       "  <thead>\n",
       "    <tr style=\"text-align: right;\">\n",
       "      <th></th>\n",
       "      <th>Type</th>\n",
       "      <th>Breed</th>\n",
       "      <th>Weight (lb)</th>\n",
       "      <th>Height (in)</th>\n",
       "      <th>Sex</th>\n",
       "    </tr>\n",
       "  </thead>\n",
       "  <tbody>\n",
       "    <tr>\n",
       "      <th>2</th>\n",
       "      <td>Cat</td>\n",
       "      <td>Singapura</td>\n",
       "      <td>6</td>\n",
       "      <td>8</td>\n",
       "      <td>Female</td>\n",
       "    </tr>\n",
       "    <tr>\n",
       "      <th>3</th>\n",
       "      <td>Cat</td>\n",
       "      <td>Singapura</td>\n",
       "      <td>4</td>\n",
       "      <td>7</td>\n",
       "      <td>Female</td>\n",
       "    </tr>\n",
       "    <tr>\n",
       "      <th>4</th>\n",
       "      <td>Cat</td>\n",
       "      <td>Singapura</td>\n",
       "      <td>8</td>\n",
       "      <td>8</td>\n",
       "      <td>Male</td>\n",
       "    </tr>\n",
       "    <tr>\n",
       "      <th>9</th>\n",
       "      <td>Cat</td>\n",
       "      <td>Singapura</td>\n",
       "      <td>5</td>\n",
       "      <td>8</td>\n",
       "      <td>Female</td>\n",
       "    </tr>\n",
       "    <tr>\n",
       "      <th>13</th>\n",
       "      <td>Cat</td>\n",
       "      <td>Singapura</td>\n",
       "      <td>5</td>\n",
       "      <td>7</td>\n",
       "      <td>Female</td>\n",
       "    </tr>\n",
       "  </tbody>\n",
       "</table>\n",
       "</div>"
      ],
      "text/plain": [
       "   Type      Breed  Weight (lb)  Height (in)     Sex\n",
       "2   Cat  Singapura            6            8  Female\n",
       "3   Cat  Singapura            4            7  Female\n",
       "4   Cat  Singapura            8            8    Male\n",
       "9   Cat  Singapura            5            8  Female\n",
       "13  Cat  Singapura            5            7  Female"
      ]
     },
     "execution_count": 48,
     "metadata": {},
     "output_type": "execute_result"
    }
   ],
   "source": [
    "#Preparing the data\n",
    "SmallCats = MyData[(MyData[\"Breed\"]==\"Singapura\")]\n",
    "SmallDogs = MyData[(MyData[\"Breed\"]==\"Yorkshire Terrier\")]\n",
    "SmallCats.head()"
   ]
  },
  {
   "cell_type": "code",
   "execution_count": 57,
   "id": "e2552223",
   "metadata": {},
   "outputs": [],
   "source": [
    "#Isolating the test variables\n",
    "SmallCatsWeight = SmallCats[\"Weight (lb)\"]\n",
    "SmallDogsWeight = SmallDogs[\"Weight (lb)\"]"
   ]
  },
  {
   "cell_type": "code",
   "execution_count": 56,
   "id": "90a8a05d",
   "metadata": {},
   "outputs": [
    {
     "name": "stdout",
     "output_type": "stream",
     "text": [
      "Ttest_indResult(statistic=2.1530549587998804, pvalue=0.033930048809027155)\n"
     ]
    }
   ],
   "source": [
    "#Running the analysis\n",
    "tTestResults = stats.ttest_ind(SmallCatsWeight,SmallDogsWeight)\n",
    "print(tTestResults)"
   ]
  },
  {
   "cell_type": "code",
   "execution_count": 58,
   "id": "9830ee3a",
   "metadata": {},
   "outputs": [
    {
     "data": {
      "text/plain": [
       "count    53.000000\n",
       "mean      6.094340\n",
       "std       1.362466\n",
       "min       4.000000\n",
       "25%       5.000000\n",
       "50%       6.000000\n",
       "75%       7.000000\n",
       "max       8.000000\n",
       "Name: Weight (lb), dtype: float64"
      ]
     },
     "execution_count": 58,
     "metadata": {},
     "output_type": "execute_result"
    }
   ],
   "source": [
    "#Checking Singapura Mean Weight\n",
    "SmallCatsWeight.describe()"
   ]
  },
  {
   "cell_type": "code",
   "execution_count": 59,
   "id": "606027fe",
   "metadata": {},
   "outputs": [
    {
     "data": {
      "text/plain": [
       "count    41.000000\n",
       "mean      5.536585\n",
       "std       1.074653\n",
       "min       4.000000\n",
       "25%       5.000000\n",
       "50%       6.000000\n",
       "75%       6.000000\n",
       "max       7.000000\n",
       "Name: Weight (lb), dtype: float64"
      ]
     },
     "execution_count": 59,
     "metadata": {},
     "output_type": "execute_result"
    }
   ],
   "source": [
    "#Checking Yorkshire Terrier Mean Weight\n",
    "SmallDogsWeight.describe()"
   ]
  },
  {
   "cell_type": "markdown",
   "id": "dae47063",
   "metadata": {},
   "source": [
    "## Chi Square"
   ]
  },
  {
   "cell_type": "code",
   "execution_count": 6,
   "id": "6217e7af",
   "metadata": {},
   "outputs": [
    {
     "name": "stdout",
     "output_type": "stream",
     "text": [
      "Sex   Female  Male\n",
      "Type              \n",
      "Cat       47    64\n",
      "Dog       50    38\n"
     ]
    }
   ],
   "source": [
    "#Preparing the data\n",
    "Contingency = pd.crosstab(MyData[\"Type\"],MyData[\"Sex\"])\n",
    "print(Contingency)"
   ]
  },
  {
   "cell_type": "code",
   "execution_count": 9,
   "id": "f0736de9",
   "metadata": {},
   "outputs": [
    {
     "name": "stdout",
     "output_type": "stream",
     "text": [
      "0.059261801629914686\n"
     ]
    }
   ],
   "source": [
    "#Running the analysis\n",
    "stat,p,dof,expected=stats.chi2_contingency(Contingency)\n",
    "print(p)"
   ]
  },
  {
   "cell_type": "markdown",
   "id": "a8580ba8",
   "metadata": {},
   "source": [
    "## Correlation"
   ]
  },
  {
   "cell_type": "code",
   "execution_count": 11,
   "id": "c2c789bd",
   "metadata": {},
   "outputs": [],
   "source": [
    "#Preparing the data\n",
    "PetHeight = MyData[\"Height (in)\"]\n",
    "PetWeight = MyData[\"Weight (lb)\"]"
   ]
  },
  {
   "cell_type": "code",
   "execution_count": 12,
   "id": "fe586609",
   "metadata": {},
   "outputs": [
    {
     "name": "stdout",
     "output_type": "stream",
     "text": [
      "(0.9592991777202481, 3.8891158549349756e-110)\n"
     ]
    }
   ],
   "source": [
    "#Running the analysis\n",
    "CorrelationResults = stats.pearsonr(PetHeight,PetWeight)\n",
    "print(CorrelationResults)"
   ]
  },
  {
   "cell_type": "markdown",
   "id": "a3336dec",
   "metadata": {},
   "source": [
    "## Simple Linear Regression"
   ]
  },
  {
   "cell_type": "code",
   "execution_count": 90,
   "id": "080f84ea",
   "metadata": {},
   "outputs": [],
   "source": [
    "#Preparing the data\n",
    "Y = MyData[\"Height (in)\"]\n",
    "X = MyData[\"Weight (lb)\"]\n",
    "XConstant = sm.add_constant(X)"
   ]
  },
  {
   "cell_type": "code",
   "execution_count": 91,
   "id": "a524c12c",
   "metadata": {},
   "outputs": [
    {
     "name": "stdout",
     "output_type": "stream",
     "text": [
      "                            OLS Regression Results                            \n",
      "==============================================================================\n",
      "Dep. Variable:            Height (in)   R-squared:                       0.920\n",
      "Model:                            OLS   Adj. R-squared:                  0.920\n",
      "Method:                 Least Squares   F-statistic:                     2273.\n",
      "Date:                Mon, 22 Aug 2022   Prob (F-statistic):          3.89e-110\n",
      "Time:                        17:23:27   Log-Likelihood:                -487.92\n",
      "No. Observations:                 199   AIC:                             979.8\n",
      "Df Residuals:                     197   BIC:                             986.4\n",
      "Df Model:                           1                                         \n",
      "Covariance Type:            nonrobust                                         \n",
      "===============================================================================\n",
      "                  coef    std err          t      P>|t|      [0.025      0.975]\n",
      "-------------------------------------------------------------------------------\n",
      "const           8.5104      0.241     35.272      0.000       8.035       8.986\n",
      "Weight (lb)     0.1220      0.003     47.680      0.000       0.117       0.127\n",
      "==============================================================================\n",
      "Omnibus:                       13.770   Durbin-Watson:                   2.314\n",
      "Prob(Omnibus):                  0.001   Jarque-Bera (JB):               12.161\n",
      "Skew:                           0.530   Prob(JB):                      0.00229\n",
      "Kurtosis:                       2.413   Cond. No.                         114.\n",
      "==============================================================================\n",
      "\n",
      "Notes:\n",
      "[1] Standard Errors assume that the covariance matrix of the errors is correctly specified.\n"
     ]
    }
   ],
   "source": [
    "#Running the analysis\n",
    "SimpleLinearRegressionResults = sm.OLS(Y,XConstant).fit()\n",
    "print(SimpleLinearRegressionResults.summary())"
   ]
  },
  {
   "cell_type": "code",
   "execution_count": 92,
   "id": "5a45880e",
   "metadata": {},
   "outputs": [
    {
     "data": {
      "image/png": "[encoded data removed]",
      "text/plain": [
       "<Figure size 432x288 with 1 Axes>"
      ]
     },
     "metadata": {
      "needs_background": "light"
     },
     "output_type": "display_data"
    }
   ],
   "source": [
    "#Plotting the model\n",
    "plt.scatter(X,Y)\n",
    "plt.plot(X,8.5104 + 0.1220*X,\"r\")\n",
    "plt.show()"
   ]
  },
  {
   "cell_type": "code",
   "execution_count": null,
   "id": "8b7121aa",
   "metadata": {},
   "outputs": [],
   "source": []
  }
 ],
 "metadata": {
  "kernelspec": {
   "display_name": "Python 3 (ipykernel)",
   "language": "python",
   "name": "python3"
  },
  "language_info": {
   "codemirror_mode": {
    "name": "ipython",
    "version": 3
   },
   "file_extension": ".py",
   "mimetype": "text/x-python",
   "name": "python",
   "nbconvert_exporter": "python",
   "pygments_lexer": "ipython3",
   "version": "3.9.7"
  }
 },
 "nbformat": 4,
 "nbformat_minor": 5
}
